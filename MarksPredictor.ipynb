{
  "nbformat": 4,
  "nbformat_minor": 0,
  "metadata": {
    "colab": {
      "name": "MarksPredictor.ipynb",
      "provenance": [],
      "authorship_tag": "ABX9TyMMgcyHl2ri2nHWDa9875lq",
      "include_colab_link": true
    },
    "kernelspec": {
      "name": "python3",
      "display_name": "Python 3"
    },
    "language_info": {
      "name": "python"
    }
  },
  "cells": [
    {
      "cell_type": "markdown",
      "metadata": {
        "id": "view-in-github",
        "colab_type": "text"
      },
      "source": [
        "<a href=\"https://colab.research.google.com/github/SRenuuu/marks-predictor/blob/main/MarksPredictor.ipynb\" target=\"_parent\"><img src=\"https://colab.research.google.com/assets/colab-badge.svg\" alt=\"Open In Colab\"/></a>"
      ]
    },
    {
      "cell_type": "markdown",
      "metadata": {
        "id": "kU-ggcJAHrIm"
      },
      "source": [
        "# Marks Predictor using Linear Regression with Python"
      ]
    },
    {
      "cell_type": "markdown",
      "metadata": {
        "id": "BmwrwVez_Z4w"
      },
      "source": [
        "1. First, let's start by importing **Pandas** and **Numpy** which are 2 commonly used libraries for Machine Learning in Python. We will be using the **sklearn** library as well. Also we will import **Matplotlib** which provides functions for visualizing data using graphs."
      ]
    },
    {
      "cell_type": "code",
      "metadata": {
        "id": "L6VDzeb3xyMc"
      },
      "source": [
        "# import required libraries\n",
        "import pandas as pd\n",
        "import numpy as np\n",
        "import matplotlib.pyplot as plt"
      ],
      "execution_count": 1,
      "outputs": []
    },
    {
      "cell_type": "markdown",
      "metadata": {
        "id": "pNQ3m3CzAcdw"
      },
      "source": [
        "2. **Supervised machine learning** is about creating models that precisely map the given inputs to the given outputs.\n",
        "To create and train a model, we need **Raw Data**. Then we can use that model to predict outputs for any input. Let's feed some sample raw data using a CSV file hosted on the Github repo."
      ]
    },
    {
      "cell_type": "code",
      "metadata": {
        "id": "Bf3MKpKa4YPv"
      },
      "source": [
        "# set path for raw data\n",
        "url = \"https://raw.githubusercontent.com/SRenuuu/marks-predictor/main/student_scores.csv\""
      ],
      "execution_count": 2,
      "outputs": []
    },
    {
      "cell_type": "markdown",
      "metadata": {
        "id": "no6GUxUhA9PS"
      },
      "source": [
        "3. Now, let's read the contents of the CSV file to a **pandas data frame**"
      ]
    },
    {
      "cell_type": "code",
      "metadata": {
        "id": "Gdx3KAyL5Ccc"
      },
      "source": [
        "# read raw data CSV\n",
        "marks_data = pd.read_csv(url)"
      ],
      "execution_count": 3,
      "outputs": []
    },
    {
      "cell_type": "markdown",
      "metadata": {
        "id": "Ia0lxwX3iIsA"
      },
      "source": [
        "4. We can preview the first 6 rows of the data frame using **head(6)**"
      ]
    },
    {
      "cell_type": "code",
      "metadata": {
        "colab": {
          "base_uri": "https://localhost:8080/",
          "height": 235
        },
        "id": "ZJmAwZ2A5JjJ",
        "outputId": "07fc3ee0-765f-4b67-d3df-b9bf437f6ad1"
      },
      "source": [
        "marks_data.head(6)"
      ],
      "execution_count": 4,
      "outputs": [
        {
          "output_type": "execute_result",
          "data": {
            "text/html": [
              "<div>\n",
              "<style scoped>\n",
              "    .dataframe tbody tr th:only-of-type {\n",
              "        vertical-align: middle;\n",
              "    }\n",
              "\n",
              "    .dataframe tbody tr th {\n",
              "        vertical-align: top;\n",
              "    }\n",
              "\n",
              "    .dataframe thead th {\n",
              "        text-align: right;\n",
              "    }\n",
              "</style>\n",
              "<table border=\"1\" class=\"dataframe\">\n",
              "  <thead>\n",
              "    <tr style=\"text-align: right;\">\n",
              "      <th></th>\n",
              "      <th>Hours</th>\n",
              "      <th>Scores</th>\n",
              "    </tr>\n",
              "  </thead>\n",
              "  <tbody>\n",
              "    <tr>\n",
              "      <th>0</th>\n",
              "      <td>2.5</td>\n",
              "      <td>21</td>\n",
              "    </tr>\n",
              "    <tr>\n",
              "      <th>1</th>\n",
              "      <td>5.1</td>\n",
              "      <td>47</td>\n",
              "    </tr>\n",
              "    <tr>\n",
              "      <th>2</th>\n",
              "      <td>3.2</td>\n",
              "      <td>27</td>\n",
              "    </tr>\n",
              "    <tr>\n",
              "      <th>3</th>\n",
              "      <td>8.5</td>\n",
              "      <td>75</td>\n",
              "    </tr>\n",
              "    <tr>\n",
              "      <th>4</th>\n",
              "      <td>3.5</td>\n",
              "      <td>30</td>\n",
              "    </tr>\n",
              "    <tr>\n",
              "      <th>5</th>\n",
              "      <td>1.5</td>\n",
              "      <td>20</td>\n",
              "    </tr>\n",
              "  </tbody>\n",
              "</table>\n",
              "</div>"
            ],
            "text/plain": [
              "   Hours  Scores\n",
              "0    2.5      21\n",
              "1    5.1      47\n",
              "2    3.2      27\n",
              "3    8.5      75\n",
              "4    3.5      30\n",
              "5    1.5      20"
            ]
          },
          "metadata": {
            "tags": []
          },
          "execution_count": 4
        }
      ]
    },
    {
      "cell_type": "markdown",
      "metadata": {
        "id": "-S7For4siWmt"
      },
      "source": [
        "5. Let's preview our raw data on a **scatter graph** using **matplotlib**"
      ]
    },
    {
      "cell_type": "code",
      "metadata": {
        "colab": {
          "base_uri": "https://localhost:8080/",
          "height": 312
        },
        "id": "ViBxjMlC594k",
        "outputId": "5a5311e1-9203-48f3-b5dc-d3d4004c875b"
      },
      "source": [
        "plt.scatter(data=marks_data, x=\"Hours\", y=\"Scores\")\n",
        "plt.xlabel(\"No of hours studied\")\n",
        "plt.ylabel(\"Marks\")\n",
        "plt.title(\"Marks vs Hours\")"
      ],
      "execution_count": 5,
      "outputs": [
        {
          "output_type": "execute_result",
          "data": {
            "text/plain": [
              "Text(0.5, 1.0, 'Marks vs Hours')"
            ]
          },
          "metadata": {
            "tags": []
          },
          "execution_count": 5
        },
        {
          "output_type": "display_data",
          "data": {
            "image/png": "[encoded data removed]",
            "text/plain": [
              "<Figure size 432x288 with 1 Axes>"
            ]
          },
          "metadata": {
            "tags": [],
            "needs_background": "light"
          }
        }
      ]
    },
    {
      "cell_type": "markdown",
      "metadata": {
        "id": "NLTn1udLi2YP"
      },
      "source": [
        "6. Before using the raw data to train our model, we have to **pre-process** it. Let's assign the data into two variables : **x and y**. Note that x and y will be of type **pandas series**."
      ]
    },
    {
      "cell_type": "code",
      "metadata": {
        "id": "otMt5YBa6i8s"
      },
      "source": [
        "X = marks_data[\"Hours\"]\n",
        "y = marks_data[\"Scores\"]"
      ],
      "execution_count": 26,
      "outputs": []
    },
    {
      "cell_type": "markdown",
      "metadata": {
        "id": "orHfVTHcj1sd"
      },
      "source": [
        "  7. \n",
        "\n",
        "\n",
        "We need to do **unbiased evaluation** to assess the predictive performance of our model and validate the model.\n",
        "\n",
        "This means that we cannot evaluate the predictive performance of a model with the same data we used for training. We have to evaluate the model with fresh data that hasn’t been seen by the model before.\n",
        "\n",
        "\n",
        "\n",
        "---\n",
        "\n",
        "\n",
        "We can accomplish that by splitting our dataset before using it.\n",
        "\n",
        "As our problem is not very complex, we split the data into two :\n",
        "  1. **Train data**\n",
        "  2. **Test data**\n",
        "\n",
        "**train_test_split from sklearn** can be used to split arrays or matrices into random train and test subsets.\n",
        "\n",
        "In supervised machine learning applications, we typically work with two types of sequences :\n",
        "  1.   **A two-dimensional array with the inputs (X)**\n",
        "  2.   **A one-dimensional array with the outputs (y)**\n",
        "\n",
        "\n",
        "---\n",
        "\n",
        "\n",
        "But our X and y are 1 dimensional arrays with 25 elements each (**X.shape = y.shape = (25,)**)\n",
        "\n",
        "X.values.reshape(-1,1) will return a numpy 2D array for the pandas series in X. The argument -1 says that the number of rows in the 2D array is unknown, (but we can set it as 25 in this case as we know the number of elements) and 1 says that the number of columns should be 1.\n",
        "\n",
        "Therefore the shape of the array returned by (X.values.reshape(-1,1)) would be **(25,1)**\n",
        "\n",
        "(A 2D array with 25 rows and 1 column)\n",
        "\n",
        "We do not need to change y as it is already a one dimensional array.\n",
        "\n",
        "According to the library : *Reshape your data either using array.reshape(-1, 1) if your data has a single feature or array.reshape(1, -1) if it contains a single sample.*\n",
        "\n",
        "Note that we have not specified the test_size for train_test_split, therefore it will split the data in a random way.\n",
        "\n",
        "\n"
      ]
    },
    {
      "cell_type": "code",
      "metadata": {
        "id": "pGh5Hoek6vCd"
      },
      "source": [
        "# split data\n",
        "from sklearn.model_selection import train_test_split\n",
        "X_train, X_test, y_train, y_test = train_test_split(X.values.reshape(-1,1), y)"
      ],
      "execution_count": 36,
      "outputs": []
    },
    {
      "cell_type": "markdown",
      "metadata": {
        "id": "tIGvRtxP7JCV"
      },
      "source": [
        "8.  \n",
        "\n",
        "Now that we have split our data, we can train our model using the train data set. Here, we will be using **Linear Regression** from the **Scikit Learn** library which provides ordinary least square linear regression. lf is an object created from the LinearRegression() class.\n",
        "\n",
        "---\n",
        "\n",
        "\n",
        "Regression searches for relationships among variables. Regression analysis is one of the most important fields in statistics and machine learning. There are many regression methods available and Linear regression is one of them.\n",
        "\n",
        "LinearRegression fits a linear model with coefficients w = (w1, …, wp) to minimize the residual sum of squares between the observed targets in the dataset, and the targets predicted by the linear approximation.\n",
        "\n",
        "---\n",
        "\n",
        "We can use the score() function to test the accuracy of our model. According to that it's accurate up to 94% of the time.\n"
      ]
    },
    {
      "cell_type": "code",
      "metadata": {
        "id": "595QGbyf9v0v",
        "colab": {
          "base_uri": "https://localhost:8080/"
        },
        "outputId": "f6680a4e-d0a2-4c25-e639-39cb97ba693c"
      },
      "source": [
        "# train model\n",
        "from sklearn.linear_model import LinearRegression\n",
        "lf = LinearRegression()\n",
        "marks_model = lf.fit(X_train, y_train)\n",
        "lf.score(X_test,y_test)"
      ],
      "execution_count": 44,
      "outputs": [
        {
          "output_type": "execute_result",
          "data": {
            "text/plain": [
              "0.945453888732918"
            ]
          },
          "metadata": {
            "tags": []
          },
          "execution_count": 44
        }
      ]
    },
    {
      "cell_type": "markdown",
      "metadata": {
        "id": "JldCMj4nBVqp"
      },
      "source": [
        "9. Let's visualise our training and test data on a scatter graph using the matplotlib library. I will use blue to show the data points in the training set and red to show the data points in the test set. The line shown in green colour is the best fitting **regression line**."
      ]
    },
    {
      "cell_type": "code",
      "metadata": {
        "colab": {
          "base_uri": "https://localhost:8080/",
          "height": 312
        },
        "id": "y7pqsbkyAQFQ",
        "outputId": "43c7fe49-cdfa-4222-9332-696c22056f4d"
      },
      "source": [
        "plt.scatter(X_train, y_train, color=\"blue\")\n",
        "plt.scatter(X_test, y_test, color=\"red\")\n",
        "\n",
        "plt.plot(X_train, marks_model.predict(X_train), color=\"green\")\n",
        "plt.xlabel(\"No of hours studied\")\n",
        "plt.ylabel(\"Marks\")\n",
        "plt.title(\"Marks vs Hours\")"
      ],
      "execution_count": 46,
      "outputs": [
        {
          "output_type": "execute_result",
          "data": {
            "text/plain": [
              "Text(0.5, 1.0, 'Marks vs Hours')"
            ]
          },
          "metadata": {
            "tags": []
          },
          "execution_count": 46
        },
        {
          "output_type": "display_data",
          "data": {
            "image/png": "[encoded data removed]",
            "text/plain": [
              "<Figure size 432x288 with 1 Axes>"
            ]
          },
          "metadata": {
            "tags": [],
            "needs_background": "light"
          }
        }
      ]
    },
    {
      "cell_type": "markdown",
      "metadata": {
        "id": "5FmQ5oEKEreA"
      },
      "source": [
        "10. Final step - Now that our model is ready, we can use it to predict the **output (Marks)** for any **input (No of hours studied)**. Note that we have to provide input as a 2D array here as well.\n",
        "\n",
        "np.round() is used to round the resulting numpy float value to two decimal places."
      ]
    },
    {
      "cell_type": "code",
      "metadata": {
        "colab": {
          "base_uri": "https://localhost:8080/"
        },
        "id": "dvqODNFlGkfA",
        "outputId": "c3938eff-6d11-4e7e-c936-f027068e690a"
      },
      "source": [
        "result = marks_model.predict([[7]])[0]\n",
        "print(\"Predicted marks for a student who has studied for 7 hours : \" + str(np.round(result,2)))"
      ],
      "execution_count": 47,
      "outputs": [
        {
          "output_type": "stream",
          "text": [
            "Predicted marks for a student who has studied for 7 hours : 71.41\n"
          ],
          "name": "stdout"
        }
      ]
    }
  ]
}